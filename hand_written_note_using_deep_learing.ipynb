{
 "cells": [
  {
   "cell_type": "code",
   "execution_count": 32,
   "id": "afde2084",
   "metadata": {},
   "outputs": [
    {
     "name": "stdout",
     "output_type": "stream",
     "text": [
      "(60000, 28, 28) (60000,)\n"
     ]
    }
   ],
   "source": [
    "import keras\n",
    "from keras.datasets import mnist\n",
    "from keras.models import Sequential\n",
    "from keras.layers import Dense, Dropout, Flatten\n",
    "from keras.layers import Conv2D, MaxPooling2D\n",
    "from keras import backend as K\n",
    "\n",
    "# split the data between train and test\n",
    "(x_train, y_train) , (x_test, y_test) = mnist.load_data()\n",
    "\n",
    "print(x_train.shape, y_train.shape)\n"
   ]
  },
  {
   "cell_type": "code",
   "execution_count": 33,
   "id": "5f85a393",
   "metadata": {},
   "outputs": [
    {
     "name": "stdout",
     "output_type": "stream",
     "text": [
      "x_train shape (60000, 28, 28, 1)\n",
      "x_test shape (10000, 28, 28, 1)\n",
      "x_train sampple 60000\n",
      "X_test sample 10000\n",
      "y_train shape (60000, 10)\n",
      "y_test shape (10000, 10)\n"
     ]
    }
   ],
   "source": [
    "# preprocess the data here\n",
    "x_train = x_train.reshape(x_train.shape[0], 28, 28, 1)\n",
    "x_test = x_test.reshape(x_test.shape[0], 28, 28, 1)\n",
    "input_shape = (28, 28,1)\n",
    "num_classes = 10\n",
    "\n",
    "# covert class vectors to binary class matrices\n",
    "y_train = keras.utils.to_categorical(y_train, num_classes)\n",
    "y_test = keras.utils.to_categorical(y_test, num_classes)\n",
    "\n",
    "x_train = x_train.astype('float32')\n",
    "x_test = x_test.astype('float32')\n",
    "\n",
    "x_train /= 255.0\n",
    "x_test /= 255.0\n",
    "\n",
    "print('x_train shape', x_train.shape)\n",
    "print('x_test shape', x_test.shape)\n",
    "print('x_train sampple', x_train.shape[0])\n",
    "print('X_test sample', x_test.shape[0])\n",
    "\n",
    "print('y_train shape', y_train.shape)\n",
    "print('y_test shape', y_test.shape)"
   ]
  },
  {
   "cell_type": "code",
   "execution_count": 34,
   "id": "6de610c3",
   "metadata": {},
   "outputs": [],
   "source": [
    "# build the model here\n",
    "batch_size = 128\n",
    "num_classes = 10\n",
    "epochs = 10\n",
    "\n",
    "model = Sequential()\n",
    "model.add(Conv2D(32, kernel_size = (3, 3), activation = 'relu', input_shape = input_shape))\n",
    "model.add(Conv2D(64, (3, 3), activation = 'relu'))\n",
    "model.add(MaxPooling2D(pool_size = (2 ,2)))\n",
    "model.add(Dropout(0.25))\n",
    "model.add(Flatten())\n",
    "model.add(Dense(256, activation = 'relu'))\n",
    "model.add(Dropout(0.5))\n",
    "model.add(Dense(num_classes, activation='softmax'))\n",
    "\n",
    "model.compile(loss = keras.losses.categorical_crossentropy, optimizer = keras.optimizers.Adadelta(), metrics = ['accuracy'])"
   ]
  },
  {
   "cell_type": "code",
   "execution_count": 35,
   "id": "d56fa3d7",
   "metadata": {},
   "outputs": [
    {
     "name": "stdout",
     "output_type": "stream",
     "text": [
      "Epoch 1/10\n",
      "469/469 [==============================] - 103s 218ms/step - loss: 2.2810 - accuracy: 0.1452 - val_loss: 2.2451 - val_accuracy: 0.3116\n",
      "Epoch 2/10\n",
      "469/469 [==============================] - 101s 216ms/step - loss: 2.2212 - accuracy: 0.2722 - val_loss: 2.1695 - val_accuracy: 0.5143\n",
      "Epoch 3/10\n",
      "469/469 [==============================] - 105s 224ms/step - loss: 2.1404 - accuracy: 0.4015 - val_loss: 2.0627 - val_accuracy: 0.6408\n",
      "Epoch 4/10\n",
      "469/469 [==============================] - 119s 253ms/step - loss: 2.0230 - accuracy: 0.5019 - val_loss: 1.9074 - val_accuracy: 0.6951\n",
      "Epoch 5/10\n",
      "469/469 [==============================] - 106s 225ms/step - loss: 1.8564 - accuracy: 0.5707 - val_loss: 1.6942 - val_accuracy: 0.7259\n",
      "Epoch 6/10\n",
      "469/469 [==============================] - 101s 216ms/step - loss: 1.6481 - accuracy: 0.6162 - val_loss: 1.4397 - val_accuracy: 0.7590\n",
      "Epoch 7/10\n",
      "469/469 [==============================] - 96s 205ms/step - loss: 1.4258 - accuracy: 0.6484 - val_loss: 1.1906 - val_accuracy: 0.7838\n",
      "Epoch 8/10\n",
      "469/469 [==============================] - 96s 205ms/step - loss: 1.2302 - accuracy: 0.6774 - val_loss: 0.9896 - val_accuracy: 0.8038\n",
      "Epoch 9/10\n",
      "469/469 [==============================] - 99s 212ms/step - loss: 1.0777 - accuracy: 0.7028 - val_loss: 0.8423 - val_accuracy: 0.8190\n",
      "Epoch 10/10\n",
      "469/469 [==============================] - 108s 231ms/step - loss: 0.9666 - accuracy: 0.7217 - val_loss: 0.7381 - val_accuracy: 0.8318\n",
      "the model has trained sucessfully\n",
      "saving the model as mnist.h5\n"
     ]
    }
   ],
   "source": [
    "# train the model here\n",
    "\n",
    "hist = model.fit(x_train, y_train, batch_size=batch_size, epochs = epochs, verbose=1, validation_data=(x_test, y_test))\n",
    "print('the model has trained sucessfully')\n",
    "\n",
    "model.save('mnist.h5')\n",
    "print('saving the model as mnist.h5')"
   ]
  },
  {
   "cell_type": "code",
   "execution_count": 36,
   "id": "e4f99afc",
   "metadata": {},
   "outputs": [
    {
     "name": "stdout",
     "output_type": "stream",
     "text": [
      "Test loss: 0.7381114363670349\n",
      "Test accuracy 0.8317999839782715\n"
     ]
    }
   ],
   "source": [
    "score = model.evaluate(x_test, y_test, verbose= 0)\n",
    "print('Test loss:', score[0])\n",
    "print('Test accuracy', score[1])"
   ]
  },
  {
   "cell_type": "code",
   "execution_count": null,
   "id": "e47f0fd4",
   "metadata": {},
   "outputs": [],
   "source": []
  }
 ],
 "metadata": {
  "kernelspec": {
   "display_name": "Python 3 (ipykernel)",
   "language": "python",
   "name": "python3"
  },
  "language_info": {
   "codemirror_mode": {
    "name": "ipython",
    "version": 3
   },
   "file_extension": ".py",
   "mimetype": "text/x-python",
   "name": "python",
   "nbconvert_exporter": "python",
   "pygments_lexer": "ipython3",
   "version": "3.9.15"
  }
 },
 "nbformat": 4,
 "nbformat_minor": 5
}
